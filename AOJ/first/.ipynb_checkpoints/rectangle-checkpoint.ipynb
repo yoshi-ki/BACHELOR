{
 "cells": [
  {
   "cell_type": "code",
   "execution_count": 4,
   "metadata": {},
   "outputs": [
    {
     "name": "stdout",
     "output_type": "stream",
     "text": [
      "4 5\n",
      "20 18\n"
     ]
    }
   ],
   "source": [
    "#AOJの長方形の問題\n",
    "#Rectangle\n",
    "#http://judge.u-aizu.ac.jp/onlinejudge/description.jsp?id=ITP1_1_C&lang=jp\n",
    "#着席位置　中央、中央\n",
    "a,b = map(int, input().strip().split(' '))\n",
    "area = a*b\n",
    "length = 2*(a+b)\n",
    "print(\"%d %d\" % (area, length))"
   ]
  },
  {
   "cell_type": "code",
   "execution_count": null,
   "metadata": {
    "collapsed": true
   },
   "outputs": [],
   "source": []
  }
 ],
 "metadata": {
  "kernelspec": {
   "display_name": "Python 3",
   "language": "python",
   "name": "python3"
  },
  "language_info": {
   "codemirror_mode": {
    "name": "ipython",
    "version": 3
   },
   "file_extension": ".py",
   "mimetype": "text/x-python",
   "name": "python",
   "nbconvert_exporter": "python",
   "pygments_lexer": "ipython3",
   "version": "3.6.3"
  }
 },
 "nbformat": 4,
 "nbformat_minor": 2
}
